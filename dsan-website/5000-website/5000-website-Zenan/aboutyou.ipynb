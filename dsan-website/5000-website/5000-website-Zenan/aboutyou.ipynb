{
 "cells": [
  {
   "cell_type": "markdown",
   "metadata": {},
   "source": [
    "---\n",
    "title: \"About Me\"\n",
    "format: html\n",
    "execute: \n",
    "  enabled: true\n",
    "---"
   ]
  },
  {
   "cell_type": "markdown",
   "metadata": {},
   "source": [
    "## A quick self-introduction\n",
    "### A photo of me:"
   ]
  },
  {
   "cell_type": "markdown",
   "metadata": {},
   "source": [
    "![](./images/e3ea6870d90cc5b2bbf7e24c4242f75.jpg){width=300}"
   ]
  },
  {
   "cell_type": "markdown",
   "metadata": {},
   "source": [
    "## Backgrounds:\n",
    "Hey everyone, I am Zenan Wang, commonly known as Will, hailing from Nanjing, China. I completed my undergraduate studies at UNC Chapel Hill, achieving a double major in Mathematics and Statistics. My interests include cycling, fitness activities, and indulging in video games for leisure.\n",
    "\n",
    "### Linkedin link: <https://www.linkedin.com/in/zenan-wang-062695260/>"
   ]
  }
 ],
 "metadata": {
  "kernelspec": {
   "display_name": "base",
   "language": "python",
   "name": "python3"
  },
  "language_info": {
   "codemirror_mode": {
    "name": "ipython",
    "version": 3
   },
   "file_extension": ".py",
   "mimetype": "text/x-python",
   "name": "python",
   "nbconvert_exporter": "python",
   "pygments_lexer": "ipython3",
   "version": "3.10.13"
  }
 },
 "nbformat": 4,
 "nbformat_minor": 2
}
