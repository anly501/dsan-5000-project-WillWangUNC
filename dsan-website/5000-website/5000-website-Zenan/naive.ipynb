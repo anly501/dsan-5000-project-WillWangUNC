{
 "cells": [
  {
   "cell_type": "markdown",
   "metadata": {},
   "source": [
    "---\n",
    "title: \"Data gathering\"\n",
    "format: \n",
    "  html:\n",
    "    code-fold: false\n",
    "execute: \n",
    "  enabled: true\n",
    "---"
   ]
  },
  {
   "cell_type": "markdown",
   "metadata": {},
   "source": [
    "## Naïve Bayes on the second dataset: Traffic Accidents and Vehicles (gas car)"
   ]
  },
  {
   "cell_type": "markdown",
   "metadata": {},
   "source": [
    "### Brief introduction of Naïve Bayes method\n",
    "1. Naive Bayes is a simple yet powerful probabilistic machine learning algorithm used for classification and, to some extent, regression tasks. It is based on Bayes' theorem, which is a fundamental concept in probability theory. Despite its simplicity, Naive Bayes often performs well in various real-world applications and is particularly effective for text classification tasks, such as spam filtering and sentiment analysis.\n",
    "\n",
    "2. The \"naive\" in Naive Bayes comes from the assumption of independence among features. It assumes that the presence or absence of a particular feature in a class is independent of the presence or absence of other features. This assumption simplifies the model and makes it computationally efficient, especially when dealing with a large number of features.\n",
    "\n",
    "3. The algorithm is commonly used in natural language processing (NLP) tasks, where each term in a document is treated as a feature. The Naive Bayes classifier calculates the probability of a document belonging to a particular class based on the probabilities of individual terms occurring in that class. The class with the highest probability is then assigned to the document."
   ]
  },
  {
   "cell_type": "markdown",
   "metadata": {},
   "source": [
    "### Feature selection"
   ]
  },
  {
   "cell_type": "code",
   "execution_count": 1,
   "metadata": {},
   "outputs": [],
   "source": [
    "#| code-fold: true\n",
    "import pandas as pd\n",
    "import matplotlib.pyplot as plt\n",
    "import seaborn as sns\n",
    "import itertools\n",
    "import warnings \n",
    "warnings.filterwarnings('ignore')\n",
    "import numpy as np\n",
    "from numpy.random import seed # To get reproducible results\n",
    "from sklearn.model_selection import train_test_split\n",
    "from sklearn.pipeline import Pipeline\n",
    "from sklearn.preprocessing import StandardScaler\n",
    "from sklearn.svm import SVC \n",
    "from sklearn.model_selection import GridSearchCV\n",
    "from sklearn.linear_model import LogisticRegression\n",
    "from sklearn.preprocessing import LabelEncoder\n",
    "from sklearn.naive_bayes import GaussianNB, MultinomialNB, CategoricalNB\n",
    "from sklearn.naive_bayes import CategoricalNB\n",
    "from sklearn.svm import LinearSVC\n",
    "import tensorflow as tf\n",
    "from tensorflow.keras.utils import to_categorical\n",
    "from tensorflow.random import set_seed # Tensorflow seed\n",
    "set_seed(18)\n",
    "from tensorflow.keras.models import Sequential\n",
    "from tensorflow.keras.layers import Dense, Activation, Dropout\n",
    "import pickle\n",
    "pd.set_option('display.max_columns', None)\n",
    "pd.set_option('display.max_rows', None)"
   ]
  },
  {
   "cell_type": "code",
   "execution_count": 2,
   "metadata": {},
   "outputs": [
    {
     "name": "stdout",
     "output_type": "stream",
     "text": [
      "The dataset contains 3 different data types and they are: float64, int64, object\n"
     ]
    }
   ],
   "source": [
    "#| echo: true\n",
    "data = pd.read_csv('./Data/RoadAccident.csv')\n",
    "column_datatypes = set()\n",
    "for column in data.columns:\n",
    "    column_datatypes.add(str(data[column].dtype))\n",
    "print(\"The dataset contains {} different data types and they are: {}\".format(len(column_datatypes), \", \".join(column_datatypes)))\n",
    "X = data.drop(columns='Accident_Severity')\n",
    "numerical_features = list()\n",
    "categorical_features = list()\n",
    "for column in X.columns:\n",
    "    if (data[column].dtype == 'float64' or data[column].dtype == 'int64'):\n",
    "        numerical_features.append(column)\n",
    "    elif (data[column].dtype == 'object'):\n",
    "        categorical_features.append(column)\n",
    "y = data['Accident_Severity']\n",
    "X = X.drop(columns=['Accident_Index','Datetime'])\n",
    "discrete_features = ['Driver_IMD_Decile','Speed_limit','Year','Season','Month_of_Year','Day_of_Month','Day_of_Week','Number_of_Vehicles','Age_of_Driver']\n",
    "for item in discrete_features:\n",
    "    numerical_features.remove(item)\n",
    "    categorical_features.append(item)\n",
    "numerical_features.remove('Accident_Index')\n",
    "categorical_features.remove('Datetime')"
   ]
  },
  {
   "cell_type": "code",
   "execution_count": 3,
   "metadata": {},
   "outputs": [
    {
     "data": {
      "text/html": [
       "<div>\n",
       "<style scoped>\n",
       "    .dataframe tbody tr th:only-of-type {\n",
       "        vertical-align: middle;\n",
       "    }\n",
       "\n",
       "    .dataframe tbody tr th {\n",
       "        vertical-align: top;\n",
       "    }\n",
       "\n",
       "    .dataframe thead th {\n",
       "        text-align: right;\n",
       "    }\n",
       "</style>\n",
       "<table border=\"1\" class=\"dataframe\">\n",
       "  <thead>\n",
       "    <tr style=\"text-align: right;\">\n",
       "      <th></th>\n",
       "      <th>Latitude</th>\n",
       "      <th>Longitude</th>\n",
       "      <th>Region</th>\n",
       "      <th>Urban_or_Rural_Area</th>\n",
       "      <th>X1st_Road_Class</th>\n",
       "      <th>Driver_IMD_Decile</th>\n",
       "      <th>Speed_limit</th>\n",
       "      <th>Road_Type</th>\n",
       "      <th>Road_Surface_Conditions</th>\n",
       "      <th>Weather</th>\n",
       "      <th>High_Wind</th>\n",
       "      <th>Lights</th>\n",
       "      <th>Year</th>\n",
       "      <th>Season</th>\n",
       "      <th>Month_of_Year</th>\n",
       "      <th>Day_of_Month</th>\n",
       "      <th>Day_of_Week</th>\n",
       "      <th>Hour_of_Day</th>\n",
       "      <th>Number_of_Vehicles</th>\n",
       "      <th>Age_of_Driver</th>\n",
       "      <th>Age_of_Vehicle</th>\n",
       "      <th>Junction_Detail</th>\n",
       "      <th>Junction_Location</th>\n",
       "      <th>X1st_Point_of_Impact</th>\n",
       "      <th>Driver_Journey_Purpose</th>\n",
       "      <th>Engine_CC</th>\n",
       "      <th>Propulsion_Code</th>\n",
       "      <th>Vehicle_Make</th>\n",
       "      <th>Vehicle_Category</th>\n",
       "      <th>Vehicle_Manoeuvre</th>\n",
       "    </tr>\n",
       "  </thead>\n",
       "  <tbody>\n",
       "    <tr>\n",
       "      <th>0</th>\n",
       "      <td>51.495653</td>\n",
       "      <td>-0.179097</td>\n",
       "      <td>London</td>\n",
       "      <td>Urban</td>\n",
       "      <td>C</td>\n",
       "      <td>7</td>\n",
       "      <td>30</td>\n",
       "      <td>Single carriageway</td>\n",
       "      <td>Dry</td>\n",
       "      <td>Fine</td>\n",
       "      <td>No</td>\n",
       "      <td>Daylight</td>\n",
       "      <td>2010</td>\n",
       "      <td>4</td>\n",
       "      <td>1</td>\n",
       "      <td>19</td>\n",
       "      <td>2</td>\n",
       "      <td>0.729</td>\n",
       "      <td>2</td>\n",
       "      <td>7</td>\n",
       "      <td>8</td>\n",
       "      <td>Not at junction or within 20 metres</td>\n",
       "      <td>Not at or within 20 metres of junction</td>\n",
       "      <td>Front</td>\n",
       "      <td>Other/Not known</td>\n",
       "      <td>1781</td>\n",
       "      <td>Petrol</td>\n",
       "      <td>Audi</td>\n",
       "      <td>Car</td>\n",
       "      <td>Going ahead</td>\n",
       "    </tr>\n",
       "    <tr>\n",
       "      <th>1</th>\n",
       "      <td>51.499635</td>\n",
       "      <td>-0.209915</td>\n",
       "      <td>London</td>\n",
       "      <td>Urban</td>\n",
       "      <td>A</td>\n",
       "      <td>3</td>\n",
       "      <td>30</td>\n",
       "      <td>Single carriageway</td>\n",
       "      <td>Dry</td>\n",
       "      <td>Fine</td>\n",
       "      <td>No</td>\n",
       "      <td>Daylight</td>\n",
       "      <td>2010</td>\n",
       "      <td>4</td>\n",
       "      <td>2</td>\n",
       "      <td>8</td>\n",
       "      <td>1</td>\n",
       "      <td>0.475</td>\n",
       "      <td>2</td>\n",
       "      <td>5</td>\n",
       "      <td>2</td>\n",
       "      <td>More than 4 arms (not roundabout)</td>\n",
       "      <td>Mid Junction - on roundabout or on main road</td>\n",
       "      <td>Offside</td>\n",
       "      <td>Other/Not known</td>\n",
       "      <td>2987</td>\n",
       "      <td>Heavy oil</td>\n",
       "      <td>Mercedes</td>\n",
       "      <td>Car</td>\n",
       "      <td>Waiting to go</td>\n",
       "    </tr>\n",
       "    <tr>\n",
       "      <th>2</th>\n",
       "      <td>51.492515</td>\n",
       "      <td>-0.168130</td>\n",
       "      <td>London</td>\n",
       "      <td>Urban</td>\n",
       "      <td>Unclassified</td>\n",
       "      <td>5</td>\n",
       "      <td>30</td>\n",
       "      <td>Single carriageway</td>\n",
       "      <td>Dry</td>\n",
       "      <td>Fine</td>\n",
       "      <td>No</td>\n",
       "      <td>Daylight</td>\n",
       "      <td>2010</td>\n",
       "      <td>4</td>\n",
       "      <td>3</td>\n",
       "      <td>3</td>\n",
       "      <td>3</td>\n",
       "      <td>0.267</td>\n",
       "      <td>2</td>\n",
       "      <td>5</td>\n",
       "      <td>11</td>\n",
       "      <td>Crossroads</td>\n",
       "      <td>Mid Junction - on roundabout or on main road</td>\n",
       "      <td>Front</td>\n",
       "      <td>Journey as part of work</td>\n",
       "      <td>998</td>\n",
       "      <td>Petrol</td>\n",
       "      <td>Nissan</td>\n",
       "      <td>Car</td>\n",
       "      <td>Going ahead</td>\n",
       "    </tr>\n",
       "    <tr>\n",
       "      <th>3</th>\n",
       "      <td>51.504784</td>\n",
       "      <td>-0.193863</td>\n",
       "      <td>London</td>\n",
       "      <td>Urban</td>\n",
       "      <td>A</td>\n",
       "      <td>2</td>\n",
       "      <td>30</td>\n",
       "      <td>Single carriageway</td>\n",
       "      <td>Dry</td>\n",
       "      <td>Fine</td>\n",
       "      <td>No</td>\n",
       "      <td>Daylight</td>\n",
       "      <td>2010</td>\n",
       "      <td>4</td>\n",
       "      <td>3</td>\n",
       "      <td>4</td>\n",
       "      <td>4</td>\n",
       "      <td>0.566</td>\n",
       "      <td>2</td>\n",
       "      <td>3</td>\n",
       "      <td>5</td>\n",
       "      <td>T or staggered junction</td>\n",
       "      <td>Mid Junction - on roundabout or on main road</td>\n",
       "      <td>Offside</td>\n",
       "      <td>Journey as part of work</td>\n",
       "      <td>2179</td>\n",
       "      <td>Heavy oil</td>\n",
       "      <td>Citroen</td>\n",
       "      <td>Van</td>\n",
       "      <td>Turning right</td>\n",
       "    </tr>\n",
       "    <tr>\n",
       "      <th>4</th>\n",
       "      <td>51.522072</td>\n",
       "      <td>-0.212927</td>\n",
       "      <td>London</td>\n",
       "      <td>Urban</td>\n",
       "      <td>B</td>\n",
       "      <td>3</td>\n",
       "      <td>30</td>\n",
       "      <td>Single carriageway</td>\n",
       "      <td>Wet or damp</td>\n",
       "      <td>Fine</td>\n",
       "      <td>No</td>\n",
       "      <td>Daylight</td>\n",
       "      <td>2010</td>\n",
       "      <td>4</td>\n",
       "      <td>3</td>\n",
       "      <td>12</td>\n",
       "      <td>5</td>\n",
       "      <td>0.670</td>\n",
       "      <td>1</td>\n",
       "      <td>4</td>\n",
       "      <td>4</td>\n",
       "      <td>T or staggered junction</td>\n",
       "      <td>Approaching junction or waiting/parked at junc...</td>\n",
       "      <td>Nearside</td>\n",
       "      <td>Journey as part of work</td>\n",
       "      <td>2198</td>\n",
       "      <td>Heavy oil</td>\n",
       "      <td>Ford</td>\n",
       "      <td>Van</td>\n",
       "      <td>Overtaking</td>\n",
       "    </tr>\n",
       "  </tbody>\n",
       "</table>\n",
       "</div>"
      ],
      "text/plain": [
       "    Latitude  Longitude  Region Urban_or_Rural_Area X1st_Road_Class  \\\n",
       "0  51.495653  -0.179097  London               Urban               C   \n",
       "1  51.499635  -0.209915  London               Urban               A   \n",
       "2  51.492515  -0.168130  London               Urban    Unclassified   \n",
       "3  51.504784  -0.193863  London               Urban               A   \n",
       "4  51.522072  -0.212927  London               Urban               B   \n",
       "\n",
       "   Driver_IMD_Decile  Speed_limit           Road_Type Road_Surface_Conditions  \\\n",
       "0                  7           30  Single carriageway                     Dry   \n",
       "1                  3           30  Single carriageway                     Dry   \n",
       "2                  5           30  Single carriageway                     Dry   \n",
       "3                  2           30  Single carriageway                     Dry   \n",
       "4                  3           30  Single carriageway             Wet or damp   \n",
       "\n",
       "  Weather High_Wind    Lights  Year  Season  Month_of_Year  Day_of_Month  \\\n",
       "0    Fine        No  Daylight  2010       4              1            19   \n",
       "1    Fine        No  Daylight  2010       4              2             8   \n",
       "2    Fine        No  Daylight  2010       4              3             3   \n",
       "3    Fine        No  Daylight  2010       4              3             4   \n",
       "4    Fine        No  Daylight  2010       4              3            12   \n",
       "\n",
       "   Day_of_Week  Hour_of_Day  Number_of_Vehicles  Age_of_Driver  \\\n",
       "0            2        0.729                   2              7   \n",
       "1            1        0.475                   2              5   \n",
       "2            3        0.267                   2              5   \n",
       "3            4        0.566                   2              3   \n",
       "4            5        0.670                   1              4   \n",
       "\n",
       "   Age_of_Vehicle                      Junction_Detail  \\\n",
       "0               8  Not at junction or within 20 metres   \n",
       "1               2    More than 4 arms (not roundabout)   \n",
       "2              11                           Crossroads   \n",
       "3               5              T or staggered junction   \n",
       "4               4              T or staggered junction   \n",
       "\n",
       "                                   Junction_Location X1st_Point_of_Impact  \\\n",
       "0             Not at or within 20 metres of junction                Front   \n",
       "1       Mid Junction - on roundabout or on main road              Offside   \n",
       "2       Mid Junction - on roundabout or on main road                Front   \n",
       "3       Mid Junction - on roundabout or on main road              Offside   \n",
       "4  Approaching junction or waiting/parked at junc...             Nearside   \n",
       "\n",
       "    Driver_Journey_Purpose  Engine_CC Propulsion_Code Vehicle_Make  \\\n",
       "0          Other/Not known       1781          Petrol         Audi   \n",
       "1          Other/Not known       2987       Heavy oil     Mercedes   \n",
       "2  Journey as part of work        998          Petrol       Nissan   \n",
       "3  Journey as part of work       2179       Heavy oil      Citroen   \n",
       "4  Journey as part of work       2198       Heavy oil         Ford   \n",
       "\n",
       "  Vehicle_Category Vehicle_Manoeuvre  \n",
       "0              Car       Going ahead  \n",
       "1              Car     Waiting to go  \n",
       "2              Car       Going ahead  \n",
       "3              Van     Turning right  \n",
       "4              Van        Overtaking  "
      ]
     },
     "execution_count": 3,
     "metadata": {},
     "output_type": "execute_result"
    }
   ],
   "source": [
    "X.head()"
   ]
  },
  {
   "cell_type": "code",
   "execution_count": 4,
   "metadata": {},
   "outputs": [
    {
     "data": {
      "text/plain": [
       "0    Slight\n",
       "1    Slight\n",
       "2    Slight\n",
       "3    Slight\n",
       "4    Slight\n",
       "Name: Accident_Severity, dtype: object"
      ]
     },
     "execution_count": 4,
     "metadata": {},
     "output_type": "execute_result"
    }
   ],
   "source": [
    "y.head()"
   ]
  },
  {
   "cell_type": "markdown",
   "metadata": {},
   "source": [
    "### X is the predictor vector , while y is the label vector"
   ]
  },
  {
   "cell_type": "markdown",
   "metadata": {},
   "source": [
    "### Training, validation and testing"
   ]
  },
  {
   "cell_type": "code",
   "execution_count": 5,
   "metadata": {},
   "outputs": [],
   "source": [
    "#| echo: true\n",
    "categorical_features_index = list()\n",
    "for i in categorical_features:\n",
    "    categorical_features_index.append(X.columns.get_loc(i))\n",
    "    X[i] = LabelEncoder().fit_transform(X[i])\n",
    "X.head()\n",
    "y = LabelEncoder().fit_transform(y)"
   ]
  },
  {
   "cell_type": "markdown",
   "metadata": {},
   "source": [
    "### Split the data into training and testing sets by the ratio of 75-25."
   ]
  },
  {
   "cell_type": "code",
   "execution_count": 6,
   "metadata": {},
   "outputs": [],
   "source": [
    "#| echo: true\n",
    "X_train_valid, X_test, y_train_valid, y_test = train_test_split(X, y, test_size = 0.25, random_state = 18)\n",
    "X_train, X_valid, y_train, y_valid = train_test_split(X_train_valid, y_train_valid, test_size = 0.2, random_state = 18)"
   ]
  },
  {
   "cell_type": "markdown",
   "metadata": {},
   "source": [
    "### Fit the Naïve Bayes model \n",
    "1. define the hyperparameters and the best alpha value"
   ]
  },
  {
   "cell_type": "code",
   "execution_count": 7,
   "metadata": {},
   "outputs": [],
   "source": [
    "#| echo: true\n",
    "mixed_nb_alpha = [1.0,1.5,2.0,2.5,3.0,3.5,4.0]\n",
    "mixedNB_validation_misclassification_rates = list()\n",
    "for alpha in mixed_nb_alpha:\n",
    "    mixedNB = GaussianNB()\n",
    "    mixedNB.fit(X_train,y_train)\n",
    "    y_hat_valid = mixedNB.predict(X_valid)\n",
    "    mixedNB_validation_misclassification_rates.append(sum(y_hat_valid != y_valid)/ len(y_valid))"
   ]
  },
  {
   "cell_type": "markdown",
   "metadata": {},
   "source": [
    "2. find the best k value for the model "
   ]
  },
  {
   "cell_type": "code",
   "execution_count": 8,
   "metadata": {},
   "outputs": [
    {
     "name": "stdout",
     "output_type": "stream",
     "text": [
      "The best K value is: 1\n"
     ]
    }
   ],
   "source": [
    "#| echo: true\n",
    "bestK_mixedNB = np.argmin(mixedNB_validation_misclassification_rates) + 1\n",
    "print(\"The best K value is: {}\".format(bestK_mixedNB))"
   ]
  },
  {
   "cell_type": "markdown",
   "metadata": {},
   "source": [
    "3. refit the Gaussian Naive Bayes model with the found parameters"
   ]
  },
  {
   "cell_type": "code",
   "execution_count": 9,
   "metadata": {},
   "outputs": [
    {
     "data": {
      "text/html": [
       "<style>#sk-container-id-1 {color: black;}#sk-container-id-1 pre{padding: 0;}#sk-container-id-1 div.sk-toggleable {background-color: white;}#sk-container-id-1 label.sk-toggleable__label {cursor: pointer;display: block;width: 100%;margin-bottom: 0;padding: 0.3em;box-sizing: border-box;text-align: center;}#sk-container-id-1 label.sk-toggleable__label-arrow:before {content: \"▸\";float: left;margin-right: 0.25em;color: #696969;}#sk-container-id-1 label.sk-toggleable__label-arrow:hover:before {color: black;}#sk-container-id-1 div.sk-estimator:hover label.sk-toggleable__label-arrow:before {color: black;}#sk-container-id-1 div.sk-toggleable__content {max-height: 0;max-width: 0;overflow: hidden;text-align: left;background-color: #f0f8ff;}#sk-container-id-1 div.sk-toggleable__content pre {margin: 0.2em;color: black;border-radius: 0.25em;background-color: #f0f8ff;}#sk-container-id-1 input.sk-toggleable__control:checked~div.sk-toggleable__content {max-height: 200px;max-width: 100%;overflow: auto;}#sk-container-id-1 input.sk-toggleable__control:checked~label.sk-toggleable__label-arrow:before {content: \"▾\";}#sk-container-id-1 div.sk-estimator input.sk-toggleable__control:checked~label.sk-toggleable__label {background-color: #d4ebff;}#sk-container-id-1 div.sk-label input.sk-toggleable__control:checked~label.sk-toggleable__label {background-color: #d4ebff;}#sk-container-id-1 input.sk-hidden--visually {border: 0;clip: rect(1px 1px 1px 1px);clip: rect(1px, 1px, 1px, 1px);height: 1px;margin: -1px;overflow: hidden;padding: 0;position: absolute;width: 1px;}#sk-container-id-1 div.sk-estimator {font-family: monospace;background-color: #f0f8ff;border: 1px dotted black;border-radius: 0.25em;box-sizing: border-box;margin-bottom: 0.5em;}#sk-container-id-1 div.sk-estimator:hover {background-color: #d4ebff;}#sk-container-id-1 div.sk-parallel-item::after {content: \"\";width: 100%;border-bottom: 1px solid gray;flex-grow: 1;}#sk-container-id-1 div.sk-label:hover label.sk-toggleable__label {background-color: #d4ebff;}#sk-container-id-1 div.sk-serial::before {content: \"\";position: absolute;border-left: 1px solid gray;box-sizing: border-box;top: 0;bottom: 0;left: 50%;z-index: 0;}#sk-container-id-1 div.sk-serial {display: flex;flex-direction: column;align-items: center;background-color: white;padding-right: 0.2em;padding-left: 0.2em;position: relative;}#sk-container-id-1 div.sk-item {position: relative;z-index: 1;}#sk-container-id-1 div.sk-parallel {display: flex;align-items: stretch;justify-content: center;background-color: white;position: relative;}#sk-container-id-1 div.sk-item::before, #sk-container-id-1 div.sk-parallel-item::before {content: \"\";position: absolute;border-left: 1px solid gray;box-sizing: border-box;top: 0;bottom: 0;left: 50%;z-index: -1;}#sk-container-id-1 div.sk-parallel-item {display: flex;flex-direction: column;z-index: 1;position: relative;background-color: white;}#sk-container-id-1 div.sk-parallel-item:first-child::after {align-self: flex-end;width: 50%;}#sk-container-id-1 div.sk-parallel-item:last-child::after {align-self: flex-start;width: 50%;}#sk-container-id-1 div.sk-parallel-item:only-child::after {width: 0;}#sk-container-id-1 div.sk-dashed-wrapped {border: 1px dashed gray;margin: 0 0.4em 0.5em 0.4em;box-sizing: border-box;padding-bottom: 0.4em;background-color: white;}#sk-container-id-1 div.sk-label label {font-family: monospace;font-weight: bold;display: inline-block;line-height: 1.2em;}#sk-container-id-1 div.sk-label-container {text-align: center;}#sk-container-id-1 div.sk-container {/* jupyter's `normalize.less` sets `[hidden] { display: none; }` but bootstrap.min.css set `[hidden] { display: none !important; }` so we also need the `!important` here to be able to override the default hidden behavior on the sphinx rendered scikit-learn.org. See: https://github.com/scikit-learn/scikit-learn/issues/21755 */display: inline-block !important;position: relative;}#sk-container-id-1 div.sk-text-repr-fallback {display: none;}</style><div id=\"sk-container-id-1\" class=\"sk-top-container\"><div class=\"sk-text-repr-fallback\"><pre>GaussianNB()</pre><b>In a Jupyter environment, please rerun this cell to show the HTML representation or trust the notebook. <br />On GitHub, the HTML representation is unable to render, please try loading this page with nbviewer.org.</b></div><div class=\"sk-container\" hidden><div class=\"sk-item\"><div class=\"sk-estimator sk-toggleable\"><input class=\"sk-toggleable__control sk-hidden--visually\" id=\"sk-estimator-id-1\" type=\"checkbox\" checked><label for=\"sk-estimator-id-1\" class=\"sk-toggleable__label sk-toggleable__label-arrow\">GaussianNB</label><div class=\"sk-toggleable__content\"><pre>GaussianNB()</pre></div></div></div></div></div>"
      ],
      "text/plain": [
       "GaussianNB()"
      ]
     },
     "execution_count": 9,
     "metadata": {},
     "output_type": "execute_result"
    }
   ],
   "source": [
    "#| echo: true\n",
    "mixedNB_best_model = GaussianNB()\n",
    "mixedNB_best_model.fit(X_train_valid,y_train_valid)"
   ]
  },
  {
   "cell_type": "markdown",
   "metadata": {},
   "source": [
    "4. calculate the classification accuracy on the testing set"
   ]
  },
  {
   "cell_type": "code",
   "execution_count": 10,
   "metadata": {},
   "outputs": [
    {
     "name": "stdout",
     "output_type": "stream",
     "text": [
      "The classification accuracy on the testing set is: 72.92%\n"
     ]
    }
   ],
   "source": [
    "#| echo: true\n",
    "print(\"The classification accuracy on the testing set is: {:.2%}\".format(np.mean(mixedNB_best_model.predict(X_test) == y_test)))"
   ]
  },
  {
   "cell_type": "markdown",
   "metadata": {},
   "source": [
    "## In conclusion:\n",
    "The final fitted model achieves an accuracy of approximately 73% on the testing set. "
   ]
  }
 ],
 "metadata": {
  "kernelspec": {
   "display_name": "Python 3 (ipykernel)",
   "language": "python",
   "name": "python3"
  },
  "language_info": {
   "codemirror_mode": {
    "name": "ipython",
    "version": 3
   },
   "file_extension": ".py",
   "mimetype": "text/x-python",
   "name": "python",
   "nbconvert_exporter": "python",
   "pygments_lexer": "ipython3",
   "version": "3.10.13"
  }
 },
 "nbformat": 4,
 "nbformat_minor": 4
}
